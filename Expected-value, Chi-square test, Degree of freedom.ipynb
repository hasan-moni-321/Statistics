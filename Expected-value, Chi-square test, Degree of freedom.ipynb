{
 "cells": [
  {
   "cell_type": "code",
   "execution_count": 1,
   "metadata": {},
   "outputs": [],
   "source": [
    "import numpy as np\n",
    "import pandas as pd\n",
    "import matplotlib.pyplot as plt\n"
   ]
  },
  {
   "cell_type": "markdown",
   "metadata": {},
   "source": [
    "# Expected Value"
   ]
  },
  {
   "cell_type": "code",
   "execution_count": null,
   "metadata": {},
   "outputs": [],
   "source": [
    "#given data\n",
    "           cat        dog\n",
    "men       120         140\n",
    "\n",
    "women     110         100\n",
    "\n",
    "\n",
    "#increasing row and column by adding every row and column\n",
    "          cat        dog     total\n",
    "men       120         140     260\n",
    "\n",
    "women     110         100     210\n",
    "\n",
    "total     230         240     470\n",
    "\n",
    "\n",
    "#expected value\n",
    "          cat                   dog         total\n",
    "men       230*260/470       240*260/470      260\n",
    "\n",
    "women     230*210/470       240*210/470      210\n",
    "\n",
    "total         230                240         470\n",
    "\n",
    "\n",
    "#result of expected value\n",
    "          cat           dog         total\n",
    "men       127.2        132.8         260\n",
    "\n",
    "women     102.8        107.2         210\n",
    "\n",
    "total     230           240          470\n"
   ]
  },
  {
   "cell_type": "markdown",
   "metadata": {},
   "source": [
    "# Chi-square Test"
   ]
  },
  {
   "cell_type": "markdown",
   "metadata": {},
   "source": [
    "The purpose of the test is to evaluate how likely the observed frequencies \n",
    "would be assuming the null hypothesis is true."
   ]
  },
  {
   "cell_type": "code",
   "execution_count": null,
   "metadata": {},
   "outputs": [],
   "source": [
    "                cat                      dog             total\n",
    "men       (120-127.2)/127.2       (120-132.8)/132.8       260\n",
    "\n",
    "women     (110-102.8)/102.8       (100-107.2)/107.2       210\n",
    "\n",
    "total           230                      240              470\n",
    "\n",
    "\n",
    "            cat         dog             total\n",
    "men       -0.06       -0.095             260\n",
    "\n",
    "women      0.07       -0.07              210\n",
    "\n",
    "total       230         240              470"
   ]
  },
  {
   "cell_type": "code",
   "execution_count": null,
   "metadata": {},
   "outputs": [],
   "source": [
    "chi-square =(-0.06+-0.095+0.07+-0.07)\n",
    "chi-square = -0.155"
   ]
  },
  {
   "cell_type": "markdown",
   "metadata": {},
   "source": [
    "# Degree of Freedom"
   ]
  },
  {
   "cell_type": "code",
   "execution_count": null,
   "metadata": {},
   "outputs": [],
   "source": [
    "DF = (row -1) * (column-1)\n",
    "\n",
    "#Example \n",
    "suppose, row=2 and column=3\n",
    "DF = (2-1)*(3-1)\n",
    "DF = 1*2\n",
    "DF = 2"
   ]
  },
  {
   "cell_type": "code",
   "execution_count": null,
   "metadata": {},
   "outputs": [],
   "source": []
  },
  {
   "cell_type": "markdown",
   "metadata": {},
   "source": [
    "# Calculating chi-square test using python"
   ]
  },
  {
   "cell_type": "markdown",
   "metadata": {},
   "source": [
    "The Pearson’s chi-squared test for independence can be calculated in Python using \n",
    "the chi2_contingency() SciPy function.The function takes an array as input \n",
    "representing the contingency table for the two categorical variables. \n",
    "It returns the calculated statistic and p-value for interpretation as well \n",
    "as the calculated degrees of freedom and table of expected frequencies."
   ]
  },
  {
   "cell_type": "code",
   "execution_count": 8,
   "metadata": {},
   "outputs": [
    {
     "name": "stdout",
     "output_type": "stream",
     "text": [
      "stat value : 4.536187133708513\n",
      "p value : 0.10350932571033855\n",
      "degree of freedom : 2\n",
      "expected value :\n",
      " [[31.42521994 57.88856305 98.68621701]\n",
      " [25.57478006 47.11143695 80.31378299]]\n"
     ]
    }
   ],
   "source": [
    "from scipy.stats import chi2_contingency\n",
    "from scipy.stats import chi2\n",
    "\n",
    "data = [[34,65,89],\n",
    "        [23,40,90]]\n",
    "\n",
    "stat, p, dof, expected = chi2_contingency(data)\n",
    "print('stat value :',stat)\n",
    "print('p value :',p)\n",
    "print('degree of freedom :',dof)\n",
    "print('expected value :\\n',expected)"
   ]
  },
  {
   "cell_type": "code",
   "execution_count": 9,
   "metadata": {},
   "outputs": [
    {
     "name": "stdout",
     "output_type": "stream",
     "text": [
      "We will not reject H0 hypothesis\n"
     ]
    }
   ],
   "source": [
    "alpha = 1-.95\n",
    "\n",
    "if p <= alpha:\n",
    "    print('We will reject H0 hypothesis')\n",
    "    \n",
    "else:\n",
    "    print('We will not reject H0 hypothesis')"
   ]
  },
  {
   "cell_type": "code",
   "execution_count": null,
   "metadata": {},
   "outputs": [],
   "source": []
  },
  {
   "cell_type": "code",
   "execution_count": null,
   "metadata": {},
   "outputs": [],
   "source": []
  },
  {
   "cell_type": "code",
   "execution_count": null,
   "metadata": {},
   "outputs": [],
   "source": []
  }
 ],
 "metadata": {
  "kernelspec": {
   "display_name": "Python 3",
   "language": "python",
   "name": "python3"
  },
  "language_info": {
   "codemirror_mode": {
    "name": "ipython",
    "version": 3
   },
   "file_extension": ".py",
   "mimetype": "text/x-python",
   "name": "python",
   "nbconvert_exporter": "python",
   "pygments_lexer": "ipython3",
   "version": "3.7.4"
  }
 },
 "nbformat": 4,
 "nbformat_minor": 2
}
